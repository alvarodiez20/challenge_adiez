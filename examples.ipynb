{
 "cells": [
  {
   "cell_type": "markdown",
   "metadata": {},
   "source": [
    "### Challenge - Álvaro Diez de Pablos\n",
    "Here are some examples for each of the challenges.\n",
    "\n",
    "The repository also includes a unittest test file that can be executed with:\n",
    "        \n",
    "        python test_cats_and_cheese.py"
   ]
  },
  {
   "cell_type": "code",
   "execution_count": 1,
   "metadata": {},
   "outputs": [],
   "source": [
    "from cats_and_cheese import balanced_symbols, cost_prorating, water_jugs"
   ]
  },
  {
   "cell_type": "markdown",
   "metadata": {},
   "source": [
    "#### Challenge 1\n",
    "----------"
   ]
  },
  {
   "cell_type": "code",
   "execution_count": 2,
   "metadata": {},
   "outputs": [
    {
     "data": {
      "text/plain": [
       "True"
      ]
     },
     "execution_count": 2,
     "metadata": {},
     "output_type": "execute_result"
    }
   ],
   "source": [
    "balanced_symbols(\"({[()[]]})\")"
   ]
  },
  {
   "cell_type": "code",
   "execution_count": 3,
   "metadata": {},
   "outputs": [
    {
     "data": {
      "text/plain": [
       "False"
      ]
     },
     "execution_count": 3,
     "metadata": {},
     "output_type": "execute_result"
    }
   ],
   "source": [
    "balanced_symbols(\"/*/\")"
   ]
  },
  {
   "cell_type": "code",
   "execution_count": 4,
   "metadata": {},
   "outputs": [
    {
     "data": {
      "text/plain": [
       "True"
      ]
     },
     "execution_count": 4,
     "metadata": {},
     "output_type": "execute_result"
    }
   ],
   "source": [
    "balanced_symbols()"
   ]
  },
  {
   "cell_type": "code",
   "execution_count": 5,
   "metadata": {},
   "outputs": [
    {
     "name": "stdout",
     "output_type": "stream",
     "text": [
      "Help on function balanced_symbols in module cats_and_cheese:\n",
      "\n",
      "balanced_symbols(input_string: str = '') -> bool\n",
      "    Checks whether an input string is properly balanced with respect to '(' and ')', \n",
      "    '[' and ']' and '{' and '}'. The function ignores the symbols within comments, a comment starts \n",
      "    with a '/*' and end with '*/'.\n",
      "    \n",
      "    Parameters\n",
      "    ----------\n",
      "    input_string: str\n",
      "        Input string to evaluate.\n",
      "    \n",
      "    Returns\n",
      "    -------\n",
      "    bool\n",
      "        True if the 'input_string' is balanced, False otherwise.\n",
      "    \n",
      "    Examples\n",
      "    --------\n",
      "    >>> balanced_symbols(\"({[()[]]})\")\n",
      "    True\n",
      "    >>> balanced_symbols(\"/* abcd /* efgh */ ijkl */\")\n",
      "    False\n",
      "    >>> balanced_symbols(\"/*\")\n",
      "    False\n",
      "\n"
     ]
    }
   ],
   "source": [
    "help(balanced_symbols)"
   ]
  },
  {
   "cell_type": "markdown",
   "metadata": {},
   "source": [
    "#### Challenge 2\n",
    "---------"
   ]
  },
  {
   "cell_type": "code",
   "execution_count": 6,
   "metadata": {},
   "outputs": [
    {
     "data": {
      "text/plain": [
       "[3, 7]"
      ]
     },
     "execution_count": 6,
     "metadata": {},
     "output_type": "execute_result"
    }
   ],
   "source": [
    "cost_prorating(cost=10, weights=[2, 5])"
   ]
  },
  {
   "cell_type": "code",
   "execution_count": 7,
   "metadata": {},
   "outputs": [
    {
     "data": {
      "text/plain": [
       "[6, 12, 18, 23, 29, 35]"
      ]
     },
     "execution_count": 7,
     "metadata": {},
     "output_type": "execute_result"
    }
   ],
   "source": [
    "cost_prorating(123, [1, 2, 3, 4, 5, 6])"
   ]
  },
  {
   "cell_type": "code",
   "execution_count": 8,
   "metadata": {},
   "outputs": [
    {
     "data": {
      "text/plain": [
       "[0, 0, 5]"
      ]
     },
     "execution_count": 8,
     "metadata": {},
     "output_type": "execute_result"
    }
   ],
   "source": [
    "cost_prorating(5, [0, 0, 1])"
   ]
  },
  {
   "cell_type": "code",
   "execution_count": 9,
   "metadata": {},
   "outputs": [
    {
     "name": "stdout",
     "output_type": "stream",
     "text": [
      "Help on function cost_prorating in module cats_and_cheese:\n",
      "\n",
      "cost_prorating(cost: int, weights: list) -> list\n",
      "    Returns the distribution of a cost proportionally to a set of  weights, maintaining the order \n",
      "    of the input weights. The total amount of the distribution is the input cost.\n",
      "    \n",
      "    Parameters\n",
      "    ----------\n",
      "    cost: int\n",
      "        Cost to distribute.\n",
      "    weights: list\n",
      "        Set of weigths.\n",
      "    \n",
      "    Returns\n",
      "    -------\n",
      "    list\n",
      "        Cost distribution as a list of integers.\n",
      "    \n",
      "    Examples\n",
      "    --------\n",
      "    >>> cost_prorating(10, [2, 5])\n",
      "    [3, 7]\n",
      "    >>> cost_prorating(10, [1, 0])\n",
      "    [10, 0]\n",
      "    >>> cost_prorating(123, [1, 2, 3, 4, 5, 6])\n",
      "    [6, 12, 18, 23, 29, 35]\n",
      "\n"
     ]
    }
   ],
   "source": [
    "help(cost_prorating)"
   ]
  },
  {
   "cell_type": "markdown",
   "metadata": {},
   "source": [
    "#### Challenge 3\n",
    "---------"
   ]
  },
  {
   "cell_type": "code",
   "execution_count": 10,
   "metadata": {},
   "outputs": [
    {
     "name": "stdout",
     "output_type": "stream",
     "text": [
      "-1 -> 1 : (0, 5)\n",
      "1 -> 0 : (3, 2)\n",
      "0 -> -1 : (0, 2)\n",
      "1 -> 0 : (2, 0)\n",
      "-1 -> 1 : (2, 5)\n",
      "1 -> 0 : (3, 4)\n",
      "\n"
     ]
    }
   ],
   "source": [
    "print(water_jugs(4, [3, 5]))"
   ]
  },
  {
   "cell_type": "code",
   "execution_count": 11,
   "metadata": {},
   "outputs": [
    {
     "name": "stdout",
     "output_type": "stream",
     "text": [
      "-1 -> 3 : (0, 0, 0, 20)\n",
      "3 -> 0 : (1, 0, 0, 19)\n",
      "3 -> 1 : (1, 2, 0, 17)\n",
      "1 -> -1 : (1, 0, 0, 17)\n",
      "3 -> 1 : (1, 2, 0, 15)\n",
      "\n"
     ]
    }
   ],
   "source": [
    "print(water_jugs(15, [1, 2, 10, 20]))"
   ]
  },
  {
   "cell_type": "code",
   "execution_count": 12,
   "metadata": {},
   "outputs": [
    {
     "name": "stdout",
     "output_type": "stream",
     "text": [
      "-1 -> 1 : (0, 2.5)\n",
      "1 -> 0 : (1, 1.5)\n",
      "0 -> -1 : (0, 1.5)\n",
      "1 -> 0 : (1, 0.5)\n",
      "\n"
     ]
    }
   ],
   "source": [
    "print(water_jugs(0.5, [1, 2.5]))"
   ]
  },
  {
   "cell_type": "code",
   "execution_count": 13,
   "metadata": {},
   "outputs": [
    {
     "name": "stdout",
     "output_type": "stream",
     "text": [
      "Help on function water_jugs in module cats_and_cheese:\n",
      "\n",
      "water_jugs(target: float, capacities: list) -> str\n",
      "    Given a set of jugs' capacities and a target volume, this function returns a minimal sequence\n",
      "    of pouring operations to reach a state where at least one jug has the target volume of water in it.\n",
      "    If no sequence exists, it returns None.\n",
      "    \n",
      "    BFS algorithm is used for this implementation of N-water jugs.\n",
      "    \n",
      "    Parameters\n",
      "    ----------\n",
      "    target: float\n",
      "        Target volume of water.\n",
      "    capacities: list\n",
      "        Set of jugs' capacities.\n",
      "    \n",
      "    Returns\n",
      "    -------\n",
      "    str\n",
      "        The minimum steps in format source -> destination : states.\n",
      "        Where:\n",
      "            source: the jug to pour from, or -1 to fill from the faucet\n",
      "            destination: the jug to pour into, or -1 to empty into the sink\n",
      "            states: the state of each jug, i.e. its volume of water, after the pouring operation\n",
      "    \n",
      "    Examples\n",
      "    --------\n",
      "    >>> water_jugs(target=4, capacities=[3, 5])\n",
      "    -1 -> 1 : (0, 5)\n",
      "    1 -> 0 : (3, 2)\n",
      "    0 -> -1 : (0, 2)\n",
      "    1 -> 0 : (2, 0)\n",
      "    -1 -> 1 : (2, 5)\n",
      "    1 -> 0 : (3, 4)\n",
      "    >>> water_jugs(target=15, capacities=[1, 2, 10, 20])\n",
      "    -1 -> 3 : (0, 0, 0, 20)\n",
      "    3 -> 0 : (1, 0, 0, 19)\n",
      "    3 -> 1 : (1, 2, 0, 17)\n",
      "    1 -> -1 : (1, 0, 0, 17)\n",
      "    3 -> 1 : (1, 2, 0, 15)\n",
      "\n"
     ]
    }
   ],
   "source": [
    "help(water_jugs)"
   ]
  },
  {
   "cell_type": "markdown",
   "metadata": {},
   "source": [
    "---------\n",
    "In each of the functions, the parameters type and value are checked."
   ]
  },
  {
   "cell_type": "code",
   "execution_count": 14,
   "metadata": {},
   "outputs": [
    {
     "ename": "ValueError",
     "evalue": "Each of the weights should be greater than 0.",
     "output_type": "error",
     "traceback": [
      "\u001b[0;31m---------------------------------------------------------------------------\u001b[0m",
      "\u001b[0;31mValueError\u001b[0m                                Traceback (most recent call last)",
      "\u001b[0;32m<ipython-input-14-c7fe5c2acaf2>\u001b[0m in \u001b[0;36m<module>\u001b[0;34m\u001b[0m\n\u001b[0;32m----> 1\u001b[0;31m \u001b[0mprint\u001b[0m\u001b[0;34m(\u001b[0m\u001b[0mwater_jugs\u001b[0m\u001b[0;34m(\u001b[0m\u001b[0;36m15\u001b[0m\u001b[0;34m,\u001b[0m \u001b[0;34m[\u001b[0m\u001b[0;36m1\u001b[0m\u001b[0;34m,\u001b[0m \u001b[0;36m0\u001b[0m\u001b[0;34m,\u001b[0m \u001b[0;36m10\u001b[0m\u001b[0;34m,\u001b[0m \u001b[0;36m20\u001b[0m\u001b[0;34m]\u001b[0m\u001b[0;34m)\u001b[0m\u001b[0;34m)\u001b[0m\u001b[0;34m\u001b[0m\u001b[0;34m\u001b[0m\u001b[0m\n\u001b[0m",
      "\u001b[0;32m/raid0/home/adiez/notebooks/challenge_adiez/cats_and_cheese.py\u001b[0m in \u001b[0;36mwater_jugs\u001b[0;34m(target, capacities)\u001b[0m\n\u001b[1;32m    215\u001b[0m             \u001b[0;32mraise\u001b[0m \u001b[0mTypeError\u001b[0m\u001b[0;34m(\u001b[0m\u001b[0;34m\"Each of the jugs' capacities should be float or int.\"\u001b[0m\u001b[0;34m)\u001b[0m\u001b[0;34m\u001b[0m\u001b[0;34m\u001b[0m\u001b[0m\n\u001b[1;32m    216\u001b[0m         \u001b[0;32mif\u001b[0m \u001b[0mcapacity\u001b[0m \u001b[0;34m<=\u001b[0m \u001b[0;36m0\u001b[0m\u001b[0;34m:\u001b[0m\u001b[0;34m\u001b[0m\u001b[0;34m\u001b[0m\u001b[0m\n\u001b[0;32m--> 217\u001b[0;31m             \u001b[0;32mraise\u001b[0m \u001b[0mValueError\u001b[0m\u001b[0;34m(\u001b[0m\u001b[0;34m\"Each of the weights should be greater than 0.\"\u001b[0m\u001b[0;34m)\u001b[0m\u001b[0;34m\u001b[0m\u001b[0;34m\u001b[0m\u001b[0m\n\u001b[0m\u001b[1;32m    218\u001b[0m \u001b[0;34m\u001b[0m\u001b[0m\n\u001b[1;32m    219\u001b[0m     \u001b[0;32mdef\u001b[0m \u001b[0mfill_a_jug\u001b[0m\u001b[0;34m(\u001b[0m\u001b[0mstate\u001b[0m\u001b[0;34m,\u001b[0m \u001b[0mcapacities\u001b[0m\u001b[0;34m)\u001b[0m\u001b[0;34m:\u001b[0m\u001b[0;34m\u001b[0m\u001b[0;34m\u001b[0m\u001b[0m\n",
      "\u001b[0;31mValueError\u001b[0m: Each of the weights should be greater than 0."
     ]
    }
   ],
   "source": [
    "print(water_jugs(15, [1, 0, 10, 20]))"
   ]
  },
  {
   "cell_type": "code",
   "execution_count": null,
   "metadata": {},
   "outputs": [],
   "source": []
  }
 ],
 "metadata": {
  "kernelspec": {
   "display_name": "Python 3",
   "language": "python",
   "name": "python3"
  },
  "language_info": {
   "codemirror_mode": {
    "name": "ipython",
    "version": 3
   },
   "file_extension": ".py",
   "mimetype": "text/x-python",
   "name": "python",
   "nbconvert_exporter": "python",
   "pygments_lexer": "ipython3",
   "version": "3.7.3"
  }
 },
 "nbformat": 4,
 "nbformat_minor": 2
}
